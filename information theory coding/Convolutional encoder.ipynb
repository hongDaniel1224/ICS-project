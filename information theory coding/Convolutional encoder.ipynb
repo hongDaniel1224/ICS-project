{
 "cells": [
  {
   "cell_type": "markdown",
   "id": "72954c60",
   "metadata": {},
   "source": [
    "## Convolutional encoder"
   ]
  },
  {
   "cell_type": "code",
   "execution_count": 1,
   "id": "e1deaf8e",
   "metadata": {},
   "outputs": [
    {
     "name": "stdout",
     "output_type": "stream",
     "text": [
      "input data: [1, 0, 1, 1, 0]\n",
      "Encoded data(1dim): [1, 1, 0, 1, 0, 0, 1, 0, 1, 0]\n",
      "Encoded data(2dim): [[1, 0, 0, 1, 1], [1, 1, 0, 0, 0]]\n"
     ]
    }
   ],
   "source": [
    "import numpy as np\n",
    "# Define the encoding function\n",
    "def encode_1dim(input_data):\n",
    "    state = [0, 0] # state 2\n",
    "    encoded_data = []\n",
    "    for bit in input_data:\n",
    "        # Calculate the encoded bits\n",
    "        encoded_bits = [((state[1] + bit) % 2),((bit + state[0] + state[1]) % 2)] # 1 + x^2\n",
    "        # Shift the state\n",
    "        state.pop() # outside bit \n",
    "        state.insert(0, bit) # add bit\n",
    "        # Append the encoded bits to the output\n",
    "        encoded_data.extend(encoded_bits)\n",
    "    return encoded_data\n",
    "\n",
    "\n",
    "# Encode the input data\n",
    "input_data = [1, 0, 1, 1, 0]\n",
    "encoded_data_1dim = encode_1dim(input_data)\n",
    "encoded_data_2dim = [[0,0,0,0,0],[0,0,0,0,0]]\n",
    "\n",
    "for i in range(5):\n",
    "    for j in range(2):\n",
    "        encoded_data_2dim[j][i] = encoded_data_1dim[i*2+j]\n",
    "\n",
    "print(\"input data:\", input_data)\n",
    "print(\"Encoded data(1dim):\", encoded_data_1dim)\n",
    "print(\"Encoded data(2dim):\", encoded_data_2dim)\n",
    "\n"
   ]
  },
  {
   "cell_type": "code",
   "execution_count": null,
   "id": "a622b386",
   "metadata": {},
   "outputs": [],
   "source": []
  }
 ],
 "metadata": {
  "kernelspec": {
   "display_name": "Python 3 (ipykernel)",
   "language": "python",
   "name": "python3"
  },
  "language_info": {
   "codemirror_mode": {
    "name": "ipython",
    "version": 3
   },
   "file_extension": ".py",
   "mimetype": "text/x-python",
   "name": "python",
   "nbconvert_exporter": "python",
   "pygments_lexer": "ipython3",
   "version": "3.9.16"
  }
 },
 "nbformat": 4,
 "nbformat_minor": 5
}
