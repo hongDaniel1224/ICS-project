{
 "cells": [
  {
   "cell_type": "code",
   "execution_count": 11,
   "id": "1cf2eb54",
   "metadata": {},
   "outputs": [
    {
     "name": "stdout",
     "output_type": "stream",
     "text": [
      "[1, 1, 0, 1, 0, 0, 1]\n"
     ]
    }
   ],
   "source": [
    "n = 7\n",
    "k = 4\n",
    "\n",
    "def get_tuple_items(t):\n",
    "    items = []\n",
    "    for i in range(len(t)):\n",
    "        items.append((i, t[i]))\n",
    "    return items\n",
    "\n",
    "# 예시 튜플\n",
    "my_tuple = [1, 1, 0, 1, 0, 0, 1]\n",
    "\n",
    "input_CW = get_tuple_items(my_tuple)\n",
    "\n",
    "encoded_data = []\n",
    "\n",
    "def cyclic_code(input_CW, n, k):\n",
    "    state = [0, 0, 0]\n",
    "    for index, value in input_CW:\n",
    "        if index < 4:\n",
    "            encoded_bits = [value]  # 정수형을 리스트로 감싸기\n",
    "            new_state = (state[2] + state[1] + value) % 2\n",
    "            state.pop()  # outside bit\n",
    "            state.insert(0, new_state)  # add bit\n",
    "            encoded_data.extend(encoded_bits)\n",
    "        else:\n",
    "            # Calculate the encoded bits\n",
    "            encoded_bits = [(state[1] + state[2]) % 2]  # 정수형을 리스트로 감싸기\n",
    "            # Shift the state\n",
    "            state.pop()  # outside bit\n",
    "            state.insert(0, 0)  # add bit\n",
    "            # Append the encoded bits to the output\n",
    "            encoded_data.extend(encoded_bits)\n",
    "    return encoded_data\n",
    "\n",
    "cyclic_encode = cyclic_code(input_CW, n, k)\n",
    "print(cyclic_encode)\n"
   ]
  },
  {
   "cell_type": "code",
   "execution_count": null,
   "id": "84422560",
   "metadata": {},
   "outputs": [],
   "source": []
  }
 ],
 "metadata": {
  "kernelspec": {
   "display_name": "Python 3 (ipykernel)",
   "language": "python",
   "name": "python3"
  },
  "language_info": {
   "codemirror_mode": {
    "name": "ipython",
    "version": 3
   },
   "file_extension": ".py",
   "mimetype": "text/x-python",
   "name": "python",
   "nbconvert_exporter": "python",
   "pygments_lexer": "ipython3",
   "version": "3.9.16"
  }
 },
 "nbformat": 4,
 "nbformat_minor": 5
}
