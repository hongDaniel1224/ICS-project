{
 "cells": [
  {
   "cell_type": "code",
   "execution_count": 1,
   "id": "e1a4d958",
   "metadata": {},
   "outputs": [
    {
     "name": "stdout",
     "output_type": "stream",
     "text": [
      "[0 0 1 1 0 1 1 1 0 1 1 0 0 0 0 1 1 1 1 1 0 0 0 0 0 0 0 0 1 1 0 0 0 1 0 1 0\n",
      " 1 1 1 0 0 1 1 1 1 0 1 0 1 1 0 1 1 0 1 0 1 1 1 0 0 1 1 0 1 0 0 0 0 1 1 1 1\n",
      " 1 1 1 1 1 0 0 0 1 1 0 1 1 0 1 1 0 1 1 0 0 1 0 1 1 0]\n",
      "[[0 0 1 1 0 1 1 1 0 1]\n",
      " [1 0 0 0 0 1 1 1 1 1]\n",
      " [0 0 0 0 0 0 0 0 1 1]\n",
      " [0 0 0 1 0 1 0 1 1 1]\n",
      " [0 0 1 1 1 1 0 1 0 1]\n",
      " [1 0 1 1 0 1 0 1 1 1]\n",
      " [0 0 1 1 0 1 0 0 0 0]\n",
      " [1 1 1 1 1 1 1 1 1 0]\n",
      " [0 0 1 1 0 1 1 0 1 1]\n",
      " [0 1 1 0 0 1 0 1 1 0]]\n",
      "[0, 1, 0, 0, 0, 1, 0, 1, 0, 0, 0, 0, 0, 0, 0, 0, 0, 1, 0, 1, 1, 0, 0, 0, 1, 1, 1, 1, 1, 1, 1, 0, 0, 1, 1, 1, 1, 1, 1, 0, 0, 0, 0, 0, 1, 0, 0, 1, 0, 0, 1, 1, 0, 1, 1, 1, 1, 1, 1, 1, 1, 1, 0, 0, 0, 0, 0, 1, 1, 0, 1, 1, 0, 1, 1, 1, 0, 1, 0, 1, 0, 1, 1, 1, 0, 1, 0, 1, 1, 1, 1, 1, 1, 1, 1, 1, 0, 0, 1, 0]\n",
      "[[-1, -1, -1, -1, -1, -1, -1, -1, -1, 1], [-1, -1, -1, -1, -1, -1, -1, -1, 0, 1], [-1, -1, -1, -1, -1, -1, -1, 1, 1, 1], [-1, -1, -1, -1, -1, -1, 1, 1, 1, 1], [-1, -1, -1, -1, -1, 1, 1, 0, 1, 1], [-1, -1, -1, -1, 0, 1, 0, 1, 0, 1], [-1, -1, -1, 1, 0, 0, 0, 1, 1, 0], [-1, -1, 1, 0, 0, 1, 0, 1, 0, 0], [-1, 0, 0, 0, 0, 1, 0, 0, 1, 1], [0, 0, 0, 1, 1, 1, 0, 1, 1, 0], [1, 0, 0, 1, 0, 1, 1, 0, 1, -1], [0, 0, 1, 1, 0, 1, 1, 1, -1, -1], [0, 0, 1, 1, 1, 1, 0, -1, -1, -1], [0, 0, 1, 1, 0, 1, -1, -1, -1, -1], [1, 0, 1, 1, 0, -1, -1, -1, -1, -1], [0, 1, 1, 0, -1, -1, -1, -1, -1, -1], [1, 0, 1, -1, -1, -1, -1, -1, -1, -1], [0, 1, -1, -1, -1, -1, -1, -1, -1, -1], [0, -1, -1, -1, -1, -1, -1, -1, -1, -1], [-1, -1, -1, -1, -1, -1, -1, -1, -1, -1]]\n",
      "[array([], dtype=float64), 1, 0, 1, 1, 1, 1, 1, 1, 1, 1, 1, 1, 0, 1, 1, 0, 1, 0, 1, 0, 1, 1, 0, 0, 0, 1, 1, 0, 1, 0, 0, 1, 0, 1, 0, 0, 0, 0, 0, 0, 1, 0, 0, 1, 1, 0, 0, 0, 1, 1, 1, 0, 1, 1, 0, 1, 0, 0, 1, 0, 1, 1, 0, 1, 0, 0, 1, 1, 0, 1, 1, 1, 0, 0, 1, 1, 1, 1, 0, 0, 0, 1, 1, 0, 1, 1, 0, 1, 1, 0, 0, 1, 1, 0, 1, 0, 1, 0, 1, 0]\n"
     ]
    }
   ],
   "source": [
    "import numpy as np\n",
    "\n",
    "u = np.random.randint(2,size=(1,100)).flatten() # 100 bits 생성\n",
    "u2 = u.reshape(10,10) # block interleaver를 하기 위해서 10X10 행렬로 변환\n",
    "u3 = []\n",
    "u4 = [np.array([])]\n",
    "for i in range(10):\n",
    "    for j in range(10):\n",
    "        u3.append(u2[j][i]) # block interleaver를 적용한 bits\n",
    "        \n",
    "matrix = [[-1] * 10 for _ in range(20)]\n",
    "for i in range(9,-1,-1):\n",
    "    for j in range(0,10):\n",
    "        matrix[j+(9-i)][i] = u2[j][i] #helical interleaver를 적용한 bits\n",
    "        \n",
    "\n",
    "print(u)\n",
    "print(u2)\n",
    "print(u3)\n",
    "print(matrix)\n",
    "# matrix = np.array(matrix)\n",
    "for row in matrix:\n",
    "    u4.extend(value for value in row if value != -1)\n",
    "print(u4)\n"
   ]
  },
  {
   "cell_type": "code",
   "execution_count": 2,
   "id": "cc7d4ad7",
   "metadata": {},
   "outputs": [],
   "source": [
    "def turbo_enc(u,u3):\n",
    "    state1 = [0, 0]\n",
    "    state2 = [0, 0]\n",
    "    encoded_data = []\n",
    "    encoded_data1 = []\n",
    "\n",
    "    for bit in u:\n",
    "        # Calculate the encoded bits\n",
    "        encoded_bits = [(bit),((bit + state1[0] + state1[1] + state1[1]) % 2)]\n",
    "        # Shift the state\n",
    "        state1.insert(0, (bit + state1[0] + state1[1]) % 2)\n",
    "        state1.pop()\n",
    "        # Append the encoded bits to the output\n",
    "        encoded_data.extend(encoded_bits)\n",
    "\n",
    "    indices = list(range(2, 301, 3)) # 삽입해야하는 index 번호\n",
    "    \n",
    "    for bit in u3:\n",
    "        # Calculate the encoded bits\n",
    "        encoded_bits1 = [((bit + state2[0] + state2[1] + state2[1]) % 2)]\n",
    "        # Shift the state\n",
    "        state2.insert(0, (bit + state2[0] + state2[1]) % 2)\n",
    "        state2.pop()\n",
    "        # Append the encoded bits to the output\n",
    "        encoded_data1.extend(encoded_bits1)\n",
    "        \n",
    "    for index, value in zip(indices, encoded_data1):\n",
    "        encoded_data.insert(index, value)\n",
    "        \n",
    "    return encoded_data"
   ]
  },
  {
   "cell_type": "code",
   "execution_count": 6,
   "id": "74c03b4d",
   "metadata": {},
   "outputs": [
    {
     "name": "stdout",
     "output_type": "stream",
     "text": [
      "[0, 0, 0, 0, 0, 1, 1, 1, 1, 1, 0, 1, 0, 0, 0, 1, 0, 0, 1, 1, 0, 1, 1, 0, 0, 1, 0, 1, 0, 1, 1, 0, 1, 0, 1, 0, 0, 0, 1, 0, 1, 1, 0, 1, 0, 1, 1, 1, 1, 1, 1, 1, 0, 1, 1, 1, 0, 1, 1, 1, 0, 1, 0, 0, 1, 0, 0, 0, 1, 0, 1, 1, 0, 1, 1, 0, 0, 1, 0, 1, 0, 0, 1, 1, 1, 1, 1, 1, 1, 0, 0, 1, 1, 0, 1, 0, 0, 0, 0, 1, 0, 1, 0, 0, 0, 1, 0, 1, 0, 0, 1, 1, 0, 0, 1, 1, 1, 1, 1, 0, 0, 1, 0, 0, 1, 0, 1, 1, 0, 1, 1, 0, 1, 0, 1, 1, 1, 1, 0, 0, 1, 1, 1, 1, 0, 1, 0, 1, 0, 0, 1, 0, 1, 0, 1, 0, 1, 1, 0, 1, 1, 0, 0, 1, 1, 1, 0, 1, 0, 1, 0, 1, 1, 1, 1, 1, 1, 1, 0, 0, 0, 0, 1, 0, 1, 1, 1, 0, 1, 1, 0, 1, 0, 1, 0, 1, 1, 1, 0, 0, 1, 0, 0, 1, 0, 0, 1, 0, 0, 1, 1, 1, 0, 1, 0, 0, 1, 1, 1, 1, 1, 1, 1, 0, 1, 1, 1, 0, 1, 1, 0, 1, 0, 0, 1, 1, 0, 0, 0, 0, 0, 0, 0, 0, 0, 0, 1, 1, 1, 1, 0, 1, 0, 0, 1, 1, 0, 0, 1, 1, 1, 0, 0, 1, 1, 1, 1, 1, 0, 0, 0, 0, 1, 1, 0, 1, 1, 1, 0, 0, 0, 1, 0, 0, 1, 1, 1, 0, 0, 1, 0, 1, 0, 1, 1, 0, 0, 0, 1, 1] 300\n"
     ]
    }
   ],
   "source": [
    "enc = turbo_enc(u,u3)\n",
    "print(enc,np.size(enc))"
   ]
  },
  {
   "cell_type": "code",
   "execution_count": null,
   "id": "ba7212d2",
   "metadata": {},
   "outputs": [],
   "source": []
  }
 ],
 "metadata": {
  "kernelspec": {
   "display_name": "Python 3 (ipykernel)",
   "language": "python",
   "name": "python3"
  },
  "language_info": {
   "codemirror_mode": {
    "name": "ipython",
    "version": 3
   },
   "file_extension": ".py",
   "mimetype": "text/x-python",
   "name": "python",
   "nbconvert_exporter": "python",
   "pygments_lexer": "ipython3",
   "version": "3.9.16"
  }
 },
 "nbformat": 4,
 "nbformat_minor": 5
}
