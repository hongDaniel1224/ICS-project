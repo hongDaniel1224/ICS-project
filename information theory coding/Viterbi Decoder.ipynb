{
 "cells": [
  {
   "cell_type": "code",
   "execution_count": 18,
   "id": "e51cc185",
   "metadata": {},
   "outputs": [],
   "source": [
    "obs = (\"11\",\"01\",\"00\",\"10\",\"10\",\"11\",\"00\")\n",
    "start_metric = {'zero':0,'one': 0, 'two': 0,'three':0}\n",
    "state_machine = {\n",
    "    #current state, current state로 들어오는 branches, branch information\n",
    "    'zero': {'b1': {'out_b':\"11\",'prev_st': 'one','input_b':0},\n",
    "             'b2': {'out_b':\"00\",'prev_st': 'zero','input_b':0}},\n",
    "    'one': {'b1': {'out_b': \"10\", 'prev_st': 'three', 'input_b': 0},\n",
    "             'b2': {'out_b': \"01\", 'prev_st': 'two', 'input_b': 0}},\n",
    "    'two': {'b1': {'out_b': \"00\", 'prev_st': 'one', 'input_b': 1},\n",
    "             'b2': {'out_b': \"11\", 'prev_st': 'zero', 'input_b': 1}},\n",
    "    'three': {'b1': {'out_b': \"01\", 'prev_st': 'three', 'input_b': 1},\n",
    "             'b2': {'out_b': \"10\", 'prev_st': 'two', 'input_b': 1}},\n",
    " \n",
    "}"
   ]
  },
  {
   "cell_type": "code",
   "execution_count": 19,
   "id": "41e931db",
   "metadata": {},
   "outputs": [],
   "source": [
    "V = [{}]\n",
    "for i in range(2):\n",
    "    V.append({})\n",
    "    for st in state_machine:# 4번 반복, zero, one, two, three\n",
    "        # Calculating the probability of both initial possibilities for the first observation\n",
    "        V[i][st] = {\"metric\": start_metric[st]}"
   ]
  },
  {
   "cell_type": "code",
   "execution_count": 21,
   "id": "211ff879",
   "metadata": {},
   "outputs": [],
   "source": [
    "def bits_diff_num(num_1,num_2): # Hamming Distance\n",
    "    count=0;\n",
    "    for i in range(0,len(num_1),1):\n",
    "        if num_1[i]!=num_2[i]:\n",
    "            count=count+1\n",
    "    return count"
   ]
  },
  {
   "cell_type": "code",
   "execution_count": 22,
   "id": "cb9455c9",
   "metadata": {},
   "outputs": [],
   "source": [
    "t=2\n",
    "V[t]['zero'] = {\"metric\" : bits_diff_num(state_machine['zero']['b2']['out_b']+state_machine['zero']['b2']['out_b'], obs[t - 2]+obs[t-1]), \"branch1\" : 'b2',\"branch2\" : 'b2'}\n",
    "V[t]['one'] = {\"metric\" : bits_diff_num(state_machine['two']['b2']['out_b']+state_machine['one']['b2']['out_b'], obs[t - 2]+obs[t-1]),\"branch1\" : 'b2',\"branch2\" : 'b2'}\n",
    "V[t]['two'] = {\"metric\" : bits_diff_num(state_machine['zero']['b2']['out_b']+state_machine['two']['b2']['out_b'], obs[t - 2]+obs[t-1]),\"branch1\" : 'b2',\"branch2\" : 'b2'}\n",
    "V[t]['three'] = {\"metric\" : bits_diff_num(state_machine['two']['b2']['out_b']+state_machine['three']['b2']['out_b'], obs[t - 2]+obs[t-1]),\"branch1\" : 'b2',\"branch2\" : 'b2'}"
   ]
  },
  {
   "cell_type": "code",
   "execution_count": 23,
   "id": "bc999491",
   "metadata": {},
   "outputs": [],
   "source": [
    "for t in range(3, len(obs)+1): # 3 ~ 7\n",
    "    V.append({}) # V에 추가\n",
    "    for st in state_machine: # 4번 반복, zero, one, two, three\n",
    "        #Check for smallest bit difference from possible previous paths, adding with previous metric\n",
    "        prev_st = state_machine[st]['b1']['prev_st']\n",
    "        first_b_metric = V[t-1][prev_st][\"metric\"] + bits_diff_num(state_machine[st]['b1']['out_b'], obs[t - 1]) # V[t-1][prev_st][\"metric\"] = 이전까지의 Hamming Distance 의 값, branch1 로 들어온 경우 \n",
    "        prev_st = state_machine[st]['b2']['prev_st']\n",
    "        second_b_metric = V[t-1][prev_st][\"metric\"] + bits_diff_num(state_machine[st]['b2']['out_b'], obs[t - 1])# branch2 로 들어온 경우\n",
    "        #print(state_machine[st]['b1']['out_b'],obs[t - 1],t)\n",
    "        if first_b_metric > second_b_metric:\n",
    "            V[t][st] = {\"metric\" : second_b_metric,\"branch\":'b2'}\n",
    "        else:\n",
    "            V[t][st] = {\"metric\": first_b_metric, \"branch\": 'b1'}"
   ]
  },
  {
   "cell_type": "code",
   "execution_count": 33,
   "id": "660af6c9",
   "metadata": {},
   "outputs": [
    {
     "name": "stdout",
     "output_type": "stream",
     "text": [
      "Decoded_code : [1, 0, 1, 1, 0, 0, 0], Message_code : [1, 0, 1, 1, 0]\n"
     ]
    }
   ],
   "source": [
    "Decode_code = []\n",
    "smaller = min(V[len(obs)][st][\"metric\"] for st in state_machine) # Minimum Hamming Distance 값 반환\n",
    "#traceback the path on smaller metric on last trellis column\n",
    "for st in state_machine:\n",
    "    if V[len(obs)][st][\"metric\"] == smaller:\n",
    "        for t in range(len(obs),1,-1):\n",
    "            if t==2:\n",
    "                branch = V[t][st][\"branch2\"]\n",
    "                Decode_code.insert(0, state_machine[st][branch]['input_b'])\n",
    "                st = state_machine[st][branch]['prev_st']\n",
    "                branch = V[t][st][\"branch1\"]\n",
    "                Decode_code.insert(0, state_machine[st][branch]['input_b'])\n",
    "            else:\n",
    "                branch = V[t][st][\"branch\"]\n",
    "                Decode_code.insert(0, state_machine[st][branch]['input_b'])\n",
    "                st = state_machine[st][branch]['prev_st']\n",
    "divided_lists = [Decode_code[i:i+7] for i in range(0, len(Decode_code), 7)] # Minimum Hamming Distance 값을 가지는 state가 여러개일 경우\n",
    "for i, sublist in enumerate(divided_lists): # list를 나눈다\n",
    "    print(f\"Decoded_code : {sublist}, Message_code : {sublist[:5]}\")"
   ]
  }
 ],
 "metadata": {
  "kernelspec": {
   "display_name": "Python 3 (ipykernel)",
   "language": "python",
   "name": "python3"
  },
  "language_info": {
   "codemirror_mode": {
    "name": "ipython",
    "version": 3
   },
   "file_extension": ".py",
   "mimetype": "text/x-python",
   "name": "python",
   "nbconvert_exporter": "python",
   "pygments_lexer": "ipython3",
   "version": "3.9.16"
  }
 },
 "nbformat": 4,
 "nbformat_minor": 5
}
