{
 "cells": [
  {
   "cell_type": "code",
   "execution_count": 115,
   "id": "6908a993",
   "metadata": {},
   "outputs": [
    {
     "name": "stdout",
     "output_type": "stream",
     "text": [
      "('Decoded_bits:', [1, 1, 0, 1, 0, 0, 1, 0, 1, 0, 1, 1, 0, 0]) ('Message: ', '10110') ('Clear_bits: ', '00')\n"
     ]
    }
   ],
   "source": [
    "import numpy as np\n",
    "encoded_bits = np.array([1, 1, 0, 1, 0, 0, 1, 0, 1, 0, 1, 1, 0, 0])\n",
    "generator_matrix = np.array([[1, 0, 1], [1, 1, 1]])\n",
    "min_distance = 999999\n",
    "encoded = np.empty((128,14), int) # 128 X 14 빈 행렬 설계\n",
    "for decimal in range(0, 128): # 0~127까지\n",
    "    mes = []\n",
    "    shift = ['0','0']\n",
    "    binary = format(decimal, '07b') # 10진수를 2진수로 변환\n",
    "    if binary[0]=='0':\n",
    "        mes.extend([0,0])\n",
    "        shift.insert(0, '0')\n",
    "        shift.pop()\n",
    "    elif binary[0]=='1':\n",
    "        mes.extend([1,1])\n",
    "        shift.insert(0, '1')\n",
    "        shift.pop()\n",
    "    for i in range(1,7):\n",
    "        if binary[i]=='0':\n",
    "            if shift == ['0','0']:\n",
    "                mes.extend([0,0])\n",
    "                shift.insert(0, binary[i])\n",
    "                shift.pop()\n",
    "            elif shift == ['0','1']:\n",
    "                mes.extend([1,1])\n",
    "                shift.insert(0, binary[i])\n",
    "                shift.pop()\n",
    "            elif shift == ['1','0']:\n",
    "                mes.extend([0,1])\n",
    "                shift.insert(0, binary[i])\n",
    "                shift.pop()\n",
    "            elif shift == ['1','1']:\n",
    "                mes.extend([1,0])\n",
    "                shift.insert(0, binary[i])\n",
    "                shift.pop()\n",
    "        elif binary[i]=='1':\n",
    "            if shift == ['0','0']:\n",
    "                mes.extend([1,1])\n",
    "                shift.insert(0, binary[i])\n",
    "                shift.pop()\n",
    "            elif shift == ['0','1']:\n",
    "                mes.extend([0,0])\n",
    "                shift.insert(0, binary[i])\n",
    "                shift.pop()\n",
    "            elif shift == ['1','0']:\n",
    "                mes.extend([1,0])\n",
    "                shift.insert(0, binary[i])\n",
    "                shift.pop()\n",
    "            elif shift == ['1','1']:\n",
    "                mes.extend([0,1])\n",
    "                shift.insert(0, binary[i])\n",
    "                shift.pop()\n",
    "    result = mes - encoded_bits\n",
    "    Hamming_dis = abs(result)\n",
    "    min_Hamming_dis = sum(Hamming_dis)\n",
    "    if min_Hamming_dis < min_distance:\n",
    "        min_distance = min_Hamming_dis\n",
    "        min_index = decimal\n",
    "        decoded_code = mes\n",
    "        message = binary[0:5]\n",
    "        clear_bits = binary[5:7]\n",
    "    encoded[decimal,:] = mes\n",
    "    \n",
    "print(f\"{'Decoded_bits:',decoded_code} {'Message: ',message} {'Clear_bits: ',clear_bits}\")"
   ]
  },
  {
   "cell_type": "code",
   "execution_count": null,
   "id": "8f28a4ab",
   "metadata": {},
   "outputs": [],
   "source": []
  }
 ],
 "metadata": {
  "kernelspec": {
   "display_name": "Python 3 (ipykernel)",
   "language": "python",
   "name": "python3"
  },
  "language_info": {
   "codemirror_mode": {
    "name": "ipython",
    "version": 3
   },
   "file_extension": ".py",
   "mimetype": "text/x-python",
   "name": "python",
   "nbconvert_exporter": "python",
   "pygments_lexer": "ipython3",
   "version": "3.9.16"
  }
 },
 "nbformat": 4,
 "nbformat_minor": 5
}
