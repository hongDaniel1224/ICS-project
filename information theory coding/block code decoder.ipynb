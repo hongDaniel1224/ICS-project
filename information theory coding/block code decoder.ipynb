{
 "cells": [
  {
   "cell_type": "markdown",
   "id": "babd4b15",
   "metadata": {},
   "source": [
    "### Write a python code for decoding (7, 4) Block code"
   ]
  },
  {
   "cell_type": "code",
   "execution_count": 1,
   "id": "1eb10780",
   "metadata": {},
   "outputs": [
    {
     "name": "stdout",
     "output_type": "stream",
     "text": [
      "[0 0 1]\n",
      "[1 0 0 1 1 0 1]\n",
      "no error\n",
      "no error\n",
      "no error\n",
      "no error\n",
      "no error\n",
      "no error\n",
      "error_pos =  6\n",
      "[1 0 0 1 1 0 0]\n",
      "Received sequence: [1 0 0 1 1 0 1]\n",
      "Original message: [1. 0. 0. 1.]\n",
      "Corrected codeword: [1 0 0 1 1 0 0]\n"
     ]
    }
   ],
   "source": [
    "import numpy as np\n",
    "\n",
    "# Define the generator matrix\n",
    "G = np.array([[1,0,0,0,1,1,1],\n",
    "              [0,1,0,0,1,0,1],\n",
    "              [0,0,1,0,1,1,0],\n",
    "              [0,0,0,1,0,1,1]])\n",
    "\n",
    "# Define the parity-check matrix\n",
    "H = np.array([[1,1,1,0,1,0,0],\n",
    "              [1,0,1,1,0,1,0],\n",
    "              [1,1,0,1,0,0,1]])\n",
    "\n",
    "# Define the received codeword\n",
    "r = np.array([1,0,0,1,1,0,1])\n",
    "\n",
    "# Calculate the syndrome\n",
    "s = np.dot(r, H.T) % 2\n",
    "\n",
    "print(s)\n",
    "print(r)\n",
    "\n",
    "for i in range(len(H.T)):\n",
    "    a = (s == H.T[i,:])\n",
    "    if a[0] == 1 & a[1] == 1 & a[2] == 1:\n",
    "        print(\"error_pos = \",i)\n",
    "        break\n",
    "    else : \n",
    "        print('no error')\n",
    "        \n",
    "e = np.array([0,0,0,0,0,0,0])\n",
    "e[i] = e[i] + 1\n",
    "c = (r + e)%2\n",
    "print(c)\n",
    "\n",
    "m = np.dot(c[:4], np.identity(4)) % 2\n",
    "\n",
    "print(\"Received sequence:\", r)\n",
    "print(\"Original message:\", m)\n",
    "print(\"Corrected codeword:\", c)"
   ]
  }
 ],
 "metadata": {
  "kernelspec": {
   "display_name": "Python 3 (ipykernel)",
   "language": "python",
   "name": "python3"
  },
  "language_info": {
   "codemirror_mode": {
    "name": "ipython",
    "version": 3
   },
   "file_extension": ".py",
   "mimetype": "text/x-python",
   "name": "python",
   "nbconvert_exporter": "python",
   "pygments_lexer": "ipython3",
   "version": "3.9.16"
  }
 },
 "nbformat": 4,
 "nbformat_minor": 5
}
