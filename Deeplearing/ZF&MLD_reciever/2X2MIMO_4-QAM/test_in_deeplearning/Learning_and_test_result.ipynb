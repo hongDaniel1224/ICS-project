{
 "cells": [
  {
   "cell_type": "code",
   "execution_count": null,
   "id": "ef92ddd0",
   "metadata": {},
   "outputs": [],
   "source": [
    "import numpy as np\n",
    "import tensorflow as tf\n",
    "import pandas as pd\n",
    "from tensorflow.keras.models import Sequential\n",
    "from tensorflow.keras.layers import Dense, Dropout\n",
    "from sklearn.model_selection import train_test_split\n",
    "from sklearn.preprocessing import StandardScaler\n",
    "import matplotlib.pyplot as plt\n",
    "from tensorflow.keras.optimizers import SGD\n",
    "from tensorflow.keras.optimizers import Adam\n",
    "from tensorflow.keras.optimizers import RMSprop\n",
    "from tensorflow.keras.optimizers import Adagrad"
   ]
  },
  {
   "cell_type": "markdown",
   "id": "8c40e76d",
   "metadata": {},
   "source": [
    "# Learning input data"
   ]
  },
  {
   "cell_type": "code",
   "execution_count": null,
   "id": "3ccfbec4",
   "metadata": {},
   "outputs": [],
   "source": [
    "# CSV 파일 경로\n",
    "csv_file_path1 = 'C:/Users/ghs88/OneDrive/문서/카카오톡 받은 파일/learning_EsN0(0dB).csv'\n",
    "csv_file_path2 = 'C:/Users/ghs88/OneDrive/문서/카카오톡 받은 파일/datalabel_EsN0(0dB).csv'\n",
    "\n",
    "# CSV 파일 읽어오기\n",
    "input = pd.read_csv(csv_file_path1)\n",
    "output = pd.read_csv(csv_file_path2)\n",
    "\n",
    "# 원-핫 벡터 생성\n",
    "outputs_one_hot = tf.keras.utils.to_categorical(output, num_classes=4)\n",
    "\n",
    "# Train data, Test data split\n",
    "train_inputs, test_inputs, train_outputs, test_outputs = train_test_split(input, outputs_one_hot, test_size=0.2)\n",
    "\n",
    "# 데이터 표준화\n",
    "scaler = StandardScaler()\n",
    "train_inputs = scaler.fit_transform(train_inputs)\n",
    "test_inputs = scaler.transform(test_inputs)"
   ]
  },
  {
   "cell_type": "code",
   "execution_count": null,
   "id": "88882793",
   "metadata": {},
   "outputs": [],
   "source": [
    "# 모델 구성\n",
    "model = Sequential()\n",
    "model.add(Dense(16, activation='leaky_relu', input_dim=23))\n",
    "model.add(Dropout(0.1))  # Dropout 추가\n",
    "model.add(Dense(32, activation='leaky_relu'))\n",
    "model.add(Dense(32, activation='leaky_relu'))\n",
    "model.add(Dense(4, activation='softmax')) \n",
    "\n",
    "#optimizer = SGD(learning_rate=0.01)\n",
    "#optimizer = Adagrad(learning_rate=0.01)\n",
    "#optimizer = RMSprop(learning_rate=0.001)\n",
    "optimizer = Adam(learning_rate=0.001)\n",
    "model.compile(optimizer=optimizer, loss='categorical_crossentropy', metrics=['accuracy'])"
   ]
  },
  {
   "cell_type": "code",
   "execution_count": null,
   "id": "529c9d5f",
   "metadata": {},
   "outputs": [],
   "source": [
    "# 모델 훈련\n",
    "history = model.fit(train_inputs, train_outputs, epochs=100, batch_size=64, verbose=1, validation_data=(test_inputs, test_outputs))"
   ]
  },
  {
   "cell_type": "code",
   "execution_count": null,
   "id": "08e904ea",
   "metadata": {},
   "outputs": [],
   "source": [
    "# 모델 평가 \n",
    "loss, accuracy = model.evaluate(test_inputs, test_outputs)\n",
    "print(\"Test Loss:\", loss)\n",
    "print(\"Test Accuracy:\", accuracy)"
   ]
  },
  {
   "cell_type": "markdown",
   "id": "0162d606",
   "metadata": {},
   "source": [
    "# test data output result"
   ]
  },
  {
   "cell_type": "code",
   "execution_count": null,
   "id": "e49a4d69",
   "metadata": {},
   "outputs": [],
   "source": [
    "csv_file_path1 = 'C:/Users/ghs88/OneDrive/문서/카카오톡 받은 파일/learning_allSNR.csv'\n",
    "input = pd.read_csv(csv_file_path1)\n",
    "train_inputs = scaler.fit_transform(input)"
   ]
  },
  {
   "cell_type": "code",
   "execution_count": null,
   "id": "5fb9adf1",
   "metadata": {},
   "outputs": [],
   "source": [
    "predictions = model.predict(train_inputs)"
   ]
  },
  {
   "cell_type": "code",
   "execution_count": null,
   "id": "a1ec8c57",
   "metadata": {},
   "outputs": [],
   "source": [
    "predicted_classes = predictions.argmax(axis=-1)\n",
    "python_list = predicted_classes.tolist()"
   ]
  },
  {
   "cell_type": "code",
   "execution_count": null,
   "id": "36f5871f",
   "metadata": {},
   "outputs": [],
   "source": [
    "import csv\n",
    "\n",
    "# 파일 경로 지정\n",
    "file_path = \"my_list_learningat0dB.csv\"\n",
    "\n",
    "# CSV 파일을 쓰기 모드로 열기\n",
    "with open(file_path, 'w', newline='') as csvfile:\n",
    "    writer = csv.writer(csvfile)\n",
    "\n",
    "    for item in python_list:\n",
    "        writer.writerow([item])\n",
    "\n",
    "print(f\"리스트가 {file_path} 파일로 저장되었습니다.\")\n"
   ]
  }
 ],
 "metadata": {
  "kernelspec": {
   "display_name": "Python 3 (ipykernel)",
   "language": "python",
   "name": "python3"
  },
  "language_info": {
   "codemirror_mode": {
    "name": "ipython",
    "version": 3
   },
   "file_extension": ".py",
   "mimetype": "text/x-python",
   "name": "python",
   "nbconvert_exporter": "python",
   "pygments_lexer": "ipython3",
   "version": "3.10.9"
  }
 },
 "nbformat": 4,
 "nbformat_minor": 5
}
